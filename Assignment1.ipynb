{
  "nbformat": 4,
  "nbformat_minor": 0,
  "metadata": {
    "colab": {
      "provenance": [],
      "collapsed_sections": [
        "_ixBmYkXvdlE",
        "VqrvrSUovapc",
        "58TWhWzTwiF-"
      ],
      "authorship_tag": "ABX9TyPRJ08G/wmkOfBmaQvS/4kR",
      "include_colab_link": true
    },
    "kernelspec": {
      "name": "python3",
      "display_name": "Python 3"
    },
    "language_info": {
      "name": "python"
    }
  },
  "cells": [
    {
      "cell_type": "markdown",
      "metadata": {
        "id": "view-in-github",
        "colab_type": "text"
      },
      "source": [
        "<a href=\"https://colab.research.google.com/github/allebasil/hello-world/blob/main/Assignment1.ipynb\" target=\"_parent\"><img src=\"https://colab.research.google.com/assets/colab-badge.svg\" alt=\"Open In Colab\"/></a>"
      ]
    },
    {
      "cell_type": "markdown",
      "source": [
        "## Install BioPython"
      ],
      "metadata": {
        "id": "_ixBmYkXvdlE"
      }
    },
    {
      "cell_type": "code",
      "execution_count": 1,
      "metadata": {
        "colab": {
          "base_uri": "https://localhost:8080/"
        },
        "id": "H3EJKIvkcE6o",
        "outputId": "04162cd2-a9a1-4b23-c1c3-9300a122085c"
      },
      "outputs": [
        {
          "output_type": "stream",
          "name": "stdout",
          "text": [
            "Collecting biopython\n",
            "  Downloading biopython-1.85-cp311-cp311-manylinux_2_17_x86_64.manylinux2014_x86_64.whl.metadata (13 kB)\n",
            "Requirement already satisfied: numpy in /usr/local/lib/python3.11/dist-packages (from biopython) (2.0.2)\n",
            "Downloading biopython-1.85-cp311-cp311-manylinux_2_17_x86_64.manylinux2014_x86_64.whl (3.3 MB)\n",
            "\u001b[2K   \u001b[90m━━━━━━━━━━━━━━━━━━━━━━━━━━━━━━━━━━━━━━━━\u001b[0m \u001b[32m3.3/3.3 MB\u001b[0m \u001b[31m23.2 MB/s\u001b[0m eta \u001b[36m0:00:00\u001b[0m\n",
            "\u001b[?25hInstalling collected packages: biopython\n",
            "Successfully installed biopython-1.85\n"
          ]
        }
      ],
      "source": [
        "# Install BioPython\n",
        "!pip install biopython"
      ]
    },
    {
      "cell_type": "markdown",
      "source": [
        "## Load in fna files (sequences)\n"
      ],
      "metadata": {
        "id": "VqrvrSUovapc"
      }
    },
    {
      "cell_type": "code",
      "source": [
        "# Use the left sidebar to upload the sequences file\n",
        "\n",
        "# Copy the file path and make it equal to \"sequence_path\" so the file path does not have to be repasted into future code\n",
        "sequences_path = \"/content/sequences.fna\"\n",
        "\n",
        "# Load in fna files (sequences)\n",
        "\n",
        "from Bio import SeqIO\n",
        "for seq_record in SeqIO.parse(sequences_path, \"fasta\"):\n",
        "  print(seq_record.id)\n",
        "  print(repr(seq_record.seq))\n",
        "  print(len(seq_record))"
      ],
      "metadata": {
        "colab": {
          "base_uri": "https://localhost:8080/"
        },
        "id": "KbF5C5PyjDid",
        "outputId": "2cf68196-deb3-45f9-ce29-2cb4859c1c21"
      },
      "execution_count": 2,
      "outputs": [
        {
          "output_type": "stream",
          "name": "stdout",
          "text": [
            "Sequence_1\n",
            "Seq('atggcgaacaccattaacctggtgaccaaatttgcgccgtatgtggatgaacag...gcg')\n",
            "852\n",
            "Sequence_2\n",
            "Seq('atggcgattgatctggtggcgaaatttctgccgtatgtggatgaaatgtttacc...gcg')\n",
            "843\n",
            "Sequence_3\n",
            "Seq('atgaccgtgaaagcgatggcgctgaacaccaaccagctgtttgcgtatctgaac...gcg')\n",
            "1053\n",
            "Sequence_4\n",
            "Seq('atgagcaaaattgcggtgatttatgcgcgctatagcagcgataaacagaccgaa...ttt')\n",
            "1494\n",
            "Sequence_5\n",
            "Seq('atgtgcgtgtatggctattgccgcattagcaccaaacagcagagcattgaacgc...taa')\n",
            "678\n",
            "Sequence_6\n",
            "Seq('atgagccgcaccctgagcggcgatcatcagtattatctggataaatatgcgaaa...taa')\n",
            "1380\n"
          ]
        }
      ]
    },
    {
      "cell_type": "markdown",
      "source": [
        "## Analyze sequence properties"
      ],
      "metadata": {
        "id": "58TWhWzTwiF-"
      }
    },
    {
      "cell_type": "code",
      "source": [
        "# List the sequences lengths and their GC values\n",
        "\n",
        "from Bio import SeqIO\n",
        "from Bio.SeqUtils import gc_fraction\n",
        "\n",
        "for seq_record in SeqIO.parse(sequences_path, \"fasta\"):\n",
        "    print(f\"Sequence ID: {seq_record.id}, Length: {len(seq_record)}, GC Content: {100 * gc_fraction(seq_record.seq):.2f}%\")\n"
      ],
      "metadata": {
        "colab": {
          "base_uri": "https://localhost:8080/"
        },
        "id": "lgYxXkGZmr8S",
        "outputId": "039eb60a-0693-4cb3-e0a7-07d929153a57"
      },
      "execution_count": 3,
      "outputs": [
        {
          "output_type": "stream",
          "name": "stdout",
          "text": [
            "Sequence ID: Sequence_1, Length: 852, GC Content: 55.87%\n",
            "Sequence ID: Sequence_2, Length: 843, GC Content: 52.55%\n",
            "Sequence ID: Sequence_3, Length: 1053, GC Content: 51.95%\n",
            "Sequence ID: Sequence_4, Length: 1494, GC Content: 51.74%\n",
            "Sequence ID: Sequence_5, Length: 678, GC Content: 46.76%\n",
            "Sequence ID: Sequence_6, Length: 1380, GC Content: 53.26%\n"
          ]
        }
      ]
    },
    {
      "cell_type": "code",
      "source": [
        "# Import necessary libraries\n",
        "import matplotlib.pyplot as plt\n",
        "\n",
        "# Prepare the data\n",
        "sequence_ids = ['sequence_1', 'sequence_2', 'sequence_3', 'sequence_4', 'sequence_5', 'sequence_6']\n",
        "gc_contents = [55.87, 52.55, 51.95, 51.74, 46.76, 53.26]\n",
        "\n",
        "# Create the bar plot\n",
        "plt.figure(figsize=(8, 6))  # Adjust figure size if needed\n",
        "plt.bar(sequence_ids, gc_contents, color='skyblue')\n",
        "plt.xlabel(\"Sequence ID\")\n",
        "plt.ylabel(\"GC Content (%)\")\n",
        "plt.title(\"GC Content of Sequences\")\n",
        "plt.xticks(rotation=45, ha='right')  # Rotate x-axis labels if needed\n",
        "plt.tight_layout()  # Adjust layout for better spacing\n",
        "plt.show()"
      ],
      "metadata": {
        "colab": {
          "base_uri": "https://localhost:8080/",
          "height": 0
        },
        "id": "LmvMSWYKl4ky",
        "outputId": "927dfa01-6cf4-48e0-a53c-e619a3e7a1f3"
      },
      "execution_count": 4,
      "outputs": [
        {
          "output_type": "display_data",
          "data": {
            "text/plain": [
              "<Figure size 800x600 with 1 Axes>"
            ],
            "image/png": "[encoded data removed]"
          },
          "metadata": {}
        }
      ]
    },
    {
      "cell_type": "code",
      "source": [
        "\n",
        "# Necessary libraries were already imported in the previous step\n",
        "\n",
        "# Prepare the data\n",
        "sequence_ids = ['sequence_1', 'sequence_2', 'sequence_3', 'sequence_4', 'sequence_5', 'sequence_6']\n",
        "sequence_lengths = [852, 843, 1053, 1494, 678, 1380]\n",
        "\n",
        "# Create the bar plot\n",
        "plt.figure(figsize=(8, 6))  # Adjust figure size if needed\n",
        "plt.bar(sequence_ids, sequence_lengths, color='skyblue')\n",
        "plt.xlabel(\"Sequence ID\")\n",
        "plt.ylabel(\"Sequence Length\")\n",
        "plt.title(\"Sequence Lengths\")\n",
        "plt.xticks(rotation=45, ha='right')  # Rotate x-axis labels if needed\n",
        "plt.tight_layout()  # Adjust layout for better spacing\n",
        "plt.show()"
      ],
      "metadata": {
        "colab": {
          "base_uri": "https://localhost:8080/",
          "height": 0
        },
        "id": "WcSq1JJEmxWO",
        "outputId": "73682d69-4d60-4c8c-f3b5-132131a479ce"
      },
      "execution_count": 5,
      "outputs": [
        {
          "output_type": "display_data",
          "data": {
            "text/plain": [
              "<Figure size 800x600 with 1 Axes>"
            ],
            "image/png": "[encoded data removed]"
          },
          "metadata": {}
        }
      ]
    },
    {
      "cell_type": "markdown",
      "source": [
        "## Translate the sequences"
      ],
      "metadata": {
        "id": "C4xKlYiOxKHK"
      }
    },
    {
      "cell_type": "code",
      "source": [
        "# Translate the sequences\n",
        "\n",
        "from Bio import SeqIO\n",
        "from Bio.Seq import Seq\n",
        "from Bio.SeqRecord import SeqRecord\n",
        "\n",
        "# Assuming you have a translation table (e.g., 11 for standard code)\n",
        "translation_table = 11\n",
        "\n",
        "translated_sequences = []\n",
        "for seq_record in SeqIO.parse(sequences_path, \"fasta\"):\n",
        "    try:\n",
        "        # Translate the sequence\n",
        "        translated_seq = seq_record.seq.translate(table=translation_table)\n",
        "        # Create a new SeqRecord for the translated sequence\n",
        "        translated_record = SeqRecord(\n",
        "            translated_seq,\n",
        "            id=seq_record.id + \"_translated\",  # Add a suffix to the ID\n",
        "            description=\"Translated sequence\"\n",
        "        )\n",
        "        translated_sequences.append(translated_record)\n",
        "    except Exception as e:\n",
        "        print(f\"Error translating sequence {seq_record.id}: {e}\")\n",
        "\n",
        "\n",
        "# You can now save the translated sequences to a new file\n",
        "SeqIO.write(translated_sequences, \"translated_sequences.fasta\", \"fasta\")\n",
        "\n",
        "# Example of how to access the translated sequence information\n",
        "for translated_record in translated_sequences:\n",
        "    print(translated_record.id)\n",
        "    print(repr(translated_record.seq))\n",
        "    print(len(translated_record))\n"
      ],
      "metadata": {
        "colab": {
          "base_uri": "https://localhost:8080/"
        },
        "id": "-kVSDiyzsXAM",
        "outputId": "520673a7-5659-48f1-9b28-ddf35e17684e"
      },
      "execution_count": 6,
      "outputs": [
        {
          "output_type": "stream",
          "name": "stdout",
          "text": [
            "Sequence_1_translated\n",
            "Seq('MANTINLVTKFAPYVDEQFTSESKLSLLTNHDFDWTGAHTVKVYKIGTSAMNDY...SKA')\n",
            "284\n",
            "Sequence_2_translated\n",
            "Seq('MAIDLVAKFLPYVDEMFTTESKKSVLTNNDFQWTGAHTVKVYKINTAPMTDYDR...EGA')\n",
            "281\n",
            "Sequence_3_translated\n",
            "Seq('MTVKAMALNTNQLFAYLNRGDIAEFKFSPLFTTLFFPNVATFSTQNIMLDTLDI...KIA')\n",
            "351\n",
            "Sequence_4_translated\n",
            "Seq('MSKIAVIYARYSSDKQTEDSIEAQVRACREYAAAHGLSVVDVYTDEAISGKGSK...ATF')\n",
            "498\n",
            "Sequence_5_translated\n",
            "Seq('MCVYGYCRISTKQQSIERQIRNIKAEYDKAVIITEAYSGTTMNRPEWNKLYKKA...TE*')\n",
            "226\n",
            "Sequence_6_translated\n",
            "Seq('MSRTLSGDHQYYLDKYAKMAKAAALEEQRAAEIENRHNEIMDAMEEQQRERAEL...MT*')\n",
            "460\n"
          ]
        }
      ]
    },
    {
      "cell_type": "markdown",
      "source": [
        "## Alignment of nucleotide sequences"
      ],
      "metadata": {
        "id": "PxnTGm1lxZBR"
      }
    },
    {
      "source": [
        "# Align sequences as nucleotides\n",
        "\n",
        "from Bio import AlignIO\n",
        "from Bio import SeqIO\n",
        "from Bio.Align import MultipleSeqAlignment\n",
        "from Bio.Seq import Seq\n",
        "from Bio.SeqRecord import SeqRecord\n",
        "from Bio.Align.Applications import MafftCommandline # Import MafftCommandline\n",
        "import io # Import the io module\n",
        "\n",
        "# Install Mafft if not already installed\n",
        "!apt-get update # Update the package list\n",
        "!apt-get install mafft # Install Mafft using apt-get\n",
        "\n",
        "# Use Mafft for alignment\n",
        "mafft_cline = MafftCommandline(input=sequences_path) # Define Mafft command-line object\n",
        "stdout, stderr = mafft_cline() # Execute Mafft\n",
        "\n",
        "# Parse the alignment output\n",
        "# Use StringIO to create a file-like object from the stdout string\n",
        "alignment = AlignIO.read(io.StringIO(stdout), \"fasta\") # Parse the alignment using StringIO\n",
        "\n",
        "# Print the alignment (or further process it)\n",
        "print(alignment)\n",
        "\n",
        "# Save the alignment to a file\n",
        "AlignIO.write(alignment, \"aligned_sequences_nucleotide.fasta\", \"fasta\")"
      ],
      "cell_type": "code",
      "metadata": {
        "colab": {
          "base_uri": "https://localhost:8080/"
        },
        "collapsed": true,
        "id": "RlizSQOWrst2",
        "outputId": "cc8c919f-da54-4a2a-8a0a-b03aeabba9e2"
      },
      "execution_count": 7,
      "outputs": [
        {
          "output_type": "stream",
          "name": "stderr",
          "text": [
            "/usr/local/lib/python3.11/dist-packages/Bio/Application/__init__.py:39: BiopythonDeprecationWarning: The Bio.Application modules and modules relying on it have been deprecated.\n",
            "\n",
            "Due to the on going maintenance burden of keeping command line application\n",
            "wrappers up to date, we have decided to deprecate and eventually remove these\n",
            "modules.\n",
            "\n",
            "We instead now recommend building your command line and invoking it directly\n",
            "with the subprocess module.\n",
            "  warnings.warn(\n"
          ]
        },
        {
          "output_type": "stream",
          "name": "stdout",
          "text": [
            "\r0% [Working]\r            \rGet:1 http://security.ubuntu.com/ubuntu jammy-security InRelease [129 kB]\n",
            "\r0% [Connecting to archive.ubuntu.com (91.189.91.83)] [1 InRelease 14.2 kB/129 kB 11%] [Connected to \r0% [Connecting to archive.ubuntu.com (91.189.91.83)] [Connected to cloud.r-project.org (65.9.86.12)]\r                                                                                                    \rGet:2 https://cloud.r-project.org/bin/linux/ubuntu jammy-cran40/ InRelease [3,632 B]\n",
            "Get:3 https://developer.download.nvidia.com/compute/cuda/repos/ubuntu2204/x86_64  InRelease [1,581 B]\n",
            "Hit:4 https://ppa.launchpadcontent.net/deadsnakes/ppa/ubuntu jammy InRelease\n",
            "Hit:5 http://archive.ubuntu.com/ubuntu jammy InRelease\n",
            "Hit:6 https://ppa.launchpadcontent.net/graphics-drivers/ppa/ubuntu jammy InRelease\n",
            "Hit:7 https://ppa.launchpadcontent.net/ubuntugis/ppa/ubuntu jammy InRelease\n",
            "Get:8 http://archive.ubuntu.com/ubuntu jammy-updates InRelease [128 kB]\n",
            "Get:9 http://security.ubuntu.com/ubuntu jammy-security/universe amd64 Packages [1,239 kB]\n",
            "Get:10 http://security.ubuntu.com/ubuntu jammy-security/restricted amd64 Packages [3,892 kB]\n",
            "Get:11 https://r2u.stat.illinois.edu/ubuntu jammy InRelease [6,555 B]\n",
            "Get:12 http://security.ubuntu.com/ubuntu jammy-security/main amd64 Packages [2,737 kB]\n",
            "Get:13 http://security.ubuntu.com/ubuntu jammy-security/multiverse amd64 Packages [47.7 kB]\n",
            "Get:14 http://archive.ubuntu.com/ubuntu jammy-backports InRelease [127 kB]\n",
            "Get:15 https://developer.download.nvidia.com/compute/cuda/repos/ubuntu2204/x86_64  Packages [1,381 kB]\n",
            "Get:16 https://r2u.stat.illinois.edu/ubuntu jammy/main amd64 Packages [2,685 kB]\n",
            "Get:17 http://archive.ubuntu.com/ubuntu jammy-updates/universe amd64 Packages [1,538 kB]\n",
            "Get:18 http://archive.ubuntu.com/ubuntu jammy-updates/main amd64 Packages [3,045 kB]\n",
            "Get:19 http://archive.ubuntu.com/ubuntu jammy-updates/restricted amd64 Packages [4,049 kB]\n",
            "Get:20 http://archive.ubuntu.com/ubuntu jammy-updates/multiverse amd64 Packages [55.7 kB]\n",
            "Get:21 http://archive.ubuntu.com/ubuntu jammy-backports/universe amd64 Packages [35.2 kB]\n",
            "Get:22 https://r2u.stat.illinois.edu/ubuntu jammy/main all Packages [8,788 kB]\n",
            "Fetched 29.9 MB in 4s (7,668 kB/s)\n",
            "Reading package lists... Done\n",
            "W: Skipping acquire of configured file 'main/source/Sources' as repository 'https://r2u.stat.illinois.edu/ubuntu jammy InRelease' does not seem to provide it (sources.list entry misspelt?)\n",
            "Reading package lists... Done\n",
            "Building dependency tree... Done\n",
            "Reading state information... Done\n",
            "The following additional packages will be installed:\n",
            "  fonts-lato libauthen-sasl-perl libclone-perl libdata-dump-perl libencode-locale-perl\n",
            "  libfile-listing-perl libfont-afm-perl libhtml-form-perl libhtml-format-perl libhtml-parser-perl\n",
            "  libhtml-tagset-perl libhtml-tree-perl libhttp-cookies-perl libhttp-daemon-perl libhttp-date-perl\n",
            "  libhttp-message-perl libhttp-negotiate-perl libio-html-perl libio-socket-ssl-perl\n",
            "  liblwp-mediatypes-perl liblwp-protocol-https-perl libmailtools-perl libnet-http-perl\n",
            "  libnet-smtp-ssl-perl libnet-ssleay-perl libruby3.0 libtry-tiny-perl liburi-perl libwww-perl\n",
            "  libwww-robotrules-perl lynx lynx-common netbase perl-openssl-defaults rake ruby ruby-net-telnet\n",
            "  ruby-rubygems ruby-webrick ruby-xmlrpc ruby3.0 rubygems-integration\n",
            "Suggested packages:\n",
            "  libdigest-hmac-perl libgssapi-perl libcrypt-ssleay-perl libsub-name-perl libbusiness-isbn-perl\n",
            "  libauthen-ntlm-perl ri ruby-dev bundler\n",
            "Recommended packages:\n",
            "  blast2\n",
            "The following NEW packages will be installed:\n",
            "  fonts-lato libauthen-sasl-perl libclone-perl libdata-dump-perl libencode-locale-perl\n",
            "  libfile-listing-perl libfont-afm-perl libhtml-form-perl libhtml-format-perl libhtml-parser-perl\n",
            "  libhtml-tagset-perl libhtml-tree-perl libhttp-cookies-perl libhttp-daemon-perl libhttp-date-perl\n",
            "  libhttp-message-perl libhttp-negotiate-perl libio-html-perl libio-socket-ssl-perl\n",
            "  liblwp-mediatypes-perl liblwp-protocol-https-perl libmailtools-perl libnet-http-perl\n",
            "  libnet-smtp-ssl-perl libnet-ssleay-perl libruby3.0 libtry-tiny-perl liburi-perl libwww-perl\n",
            "  libwww-robotrules-perl lynx lynx-common mafft netbase perl-openssl-defaults rake ruby\n",
            "  ruby-net-telnet ruby-rubygems ruby-webrick ruby-xmlrpc ruby3.0 rubygems-integration\n",
            "0 upgraded, 43 newly installed, 0 to remove and 41 not upgraded.\n",
            "Need to get 12.3 MB of archives.\n",
            "After this operation, 51.2 MB of additional disk space will be used.\n",
            "Get:1 http://archive.ubuntu.com/ubuntu jammy/main amd64 fonts-lato all 2.0-2.1 [2,696 kB]\n",
            "Get:2 http://archive.ubuntu.com/ubuntu jammy/main amd64 netbase all 6.3 [12.9 kB]\n",
            "Get:3 http://archive.ubuntu.com/ubuntu jammy/main amd64 libclone-perl amd64 0.45-1build3 [11.0 kB]\n",
            "Get:4 http://archive.ubuntu.com/ubuntu jammy/main amd64 libdata-dump-perl all 1.25-1 [25.9 kB]\n",
            "Get:5 http://archive.ubuntu.com/ubuntu jammy/main amd64 libencode-locale-perl all 1.05-1.1 [11.8 kB]\n",
            "Get:6 http://archive.ubuntu.com/ubuntu jammy/main amd64 libhttp-date-perl all 6.05-1 [9,920 B]\n",
            "Get:7 http://archive.ubuntu.com/ubuntu jammy/main amd64 libfile-listing-perl all 6.14-1 [11.2 kB]\n",
            "Get:8 http://archive.ubuntu.com/ubuntu jammy/main amd64 libfont-afm-perl all 1.20-3 [13.6 kB]\n",
            "Get:9 http://archive.ubuntu.com/ubuntu jammy/main amd64 libhtml-tagset-perl all 3.20-4 [12.5 kB]\n",
            "Get:10 http://archive.ubuntu.com/ubuntu jammy/main amd64 liburi-perl all 5.10-1 [78.8 kB]\n",
            "Get:11 http://archive.ubuntu.com/ubuntu jammy/main amd64 libhtml-parser-perl amd64 3.76-1build2 [88.4 kB]\n",
            "Get:12 http://archive.ubuntu.com/ubuntu jammy/main amd64 libio-html-perl all 1.004-2 [15.4 kB]\n",
            "Get:13 http://archive.ubuntu.com/ubuntu jammy/main amd64 liblwp-mediatypes-perl all 6.04-1 [19.5 kB]\n",
            "Get:14 http://archive.ubuntu.com/ubuntu jammy/main amd64 libhttp-message-perl all 6.36-1 [76.8 kB]\n",
            "Get:15 http://archive.ubuntu.com/ubuntu jammy/main amd64 libhtml-form-perl all 6.07-1 [22.2 kB]\n",
            "Get:16 http://archive.ubuntu.com/ubuntu jammy/main amd64 libhtml-tree-perl all 5.07-2 [200 kB]\n",
            "Get:17 http://archive.ubuntu.com/ubuntu jammy/main amd64 libhtml-format-perl all 2.12-1.1 [41.3 kB]\n",
            "Get:18 http://archive.ubuntu.com/ubuntu jammy/main amd64 libhttp-cookies-perl all 6.10-1 [18.4 kB]\n",
            "Get:19 http://archive.ubuntu.com/ubuntu jammy-updates/main amd64 libhttp-daemon-perl all 6.13-1ubuntu0.1 [22.9 kB]\n",
            "Get:20 http://archive.ubuntu.com/ubuntu jammy/main amd64 libhttp-negotiate-perl all 6.01-1 [12.5 kB]\n",
            "Get:21 http://archive.ubuntu.com/ubuntu jammy/main amd64 perl-openssl-defaults amd64 5build2 [7,542 B]\n",
            "Get:22 http://archive.ubuntu.com/ubuntu jammy/main amd64 libnet-ssleay-perl amd64 1.92-1build2 [327 kB]\n",
            "Get:23 http://archive.ubuntu.com/ubuntu jammy/main amd64 libio-socket-ssl-perl all 2.074-2 [192 kB]\n",
            "Get:24 http://archive.ubuntu.com/ubuntu jammy/main amd64 libnet-http-perl all 6.22-1 [23.2 kB]\n",
            "Get:25 http://archive.ubuntu.com/ubuntu jammy/main amd64 libtry-tiny-perl all 0.31-1 [21.8 kB]\n",
            "Get:26 http://archive.ubuntu.com/ubuntu jammy/main amd64 libwww-robotrules-perl all 6.02-1 [12.6 kB]\n",
            "Get:27 http://archive.ubuntu.com/ubuntu jammy/main amd64 libwww-perl all 6.61-1 [141 kB]\n",
            "Get:28 http://archive.ubuntu.com/ubuntu jammy/main amd64 liblwp-protocol-https-perl all 6.10-1 [10.9 kB]\n",
            "Get:29 http://archive.ubuntu.com/ubuntu jammy/main amd64 libnet-smtp-ssl-perl all 1.04-1 [5,948 B]\n",
            "Get:30 http://archive.ubuntu.com/ubuntu jammy/main amd64 libmailtools-perl all 2.21-1 [80.7 kB]\n",
            "Get:31 http://archive.ubuntu.com/ubuntu jammy/main amd64 rubygems-integration all 1.18 [5,336 B]\n",
            "Get:32 http://archive.ubuntu.com/ubuntu jammy-updates/main amd64 ruby3.0 amd64 3.0.2-7ubuntu2.8 [50.1 kB]\n",
            "Get:33 http://archive.ubuntu.com/ubuntu jammy/main amd64 ruby-rubygems all 3.3.5-2 [228 kB]\n",
            "Get:34 http://archive.ubuntu.com/ubuntu jammy/main amd64 ruby amd64 1:3.0~exp1 [5,100 B]\n",
            "Get:35 http://archive.ubuntu.com/ubuntu jammy/main amd64 rake all 13.0.6-2 [61.7 kB]\n",
            "Get:36 http://archive.ubuntu.com/ubuntu jammy/main amd64 ruby-net-telnet all 0.1.1-2 [12.6 kB]\n",
            "Get:37 http://archive.ubuntu.com/ubuntu jammy-updates/main amd64 ruby-webrick all 1.7.0-3ubuntu0.1 [52.1 kB]\n",
            "Get:38 http://archive.ubuntu.com/ubuntu jammy-updates/main amd64 ruby-xmlrpc all 0.3.2-1ubuntu0.1 [24.9 kB]\n",
            "Get:39 http://archive.ubuntu.com/ubuntu jammy-updates/main amd64 libruby3.0 amd64 3.0.2-7ubuntu2.8 [5,113 kB]\n",
            "Get:40 http://archive.ubuntu.com/ubuntu jammy/universe amd64 lynx-common all 2.9.0dev.10-1 [1,024 kB]\n",
            "Get:41 http://archive.ubuntu.com/ubuntu jammy/universe amd64 mafft amd64 7.490-1 [776 kB]\n",
            "Get:42 http://archive.ubuntu.com/ubuntu jammy/main amd64 libauthen-sasl-perl all 2.1600-1.1 [43.1 kB]\n",
            "Get:43 http://archive.ubuntu.com/ubuntu jammy/universe amd64 lynx amd64 2.9.0dev.10-1 [719 kB]\n",
            "Fetched 12.3 MB in 1s (8,580 kB/s)\n",
            "Extracting templates from packages: 100%\n",
            "Selecting previously unselected package fonts-lato.\n",
            "(Reading database ... 126209 files and directories currently installed.)\n",
            "Preparing to unpack .../00-fonts-lato_2.0-2.1_all.deb ...\n",
            "Unpacking fonts-lato (2.0-2.1) ...\n",
            "Selecting previously unselected package netbase.\n",
            "Preparing to unpack .../01-netbase_6.3_all.deb ...\n",
            "Unpacking netbase (6.3) ...\n",
            "Selecting previously unselected package libclone-perl.\n",
            "Preparing to unpack .../02-libclone-perl_0.45-1build3_amd64.deb ...\n",
            "Unpacking libclone-perl (0.45-1build3) ...\n",
            "Selecting previously unselected package libdata-dump-perl.\n",
            "Preparing to unpack .../03-libdata-dump-perl_1.25-1_all.deb ...\n",
            "Unpacking libdata-dump-perl (1.25-1) ...\n",
            "Selecting previously unselected package libencode-locale-perl.\n",
            "Preparing to unpack .../04-libencode-locale-perl_1.05-1.1_all.deb ...\n",
            "Unpacking libencode-locale-perl (1.05-1.1) ...\n",
            "Selecting previously unselected package libhttp-date-perl.\n",
            "Preparing to unpack .../05-libhttp-date-perl_6.05-1_all.deb ...\n",
            "Unpacking libhttp-date-perl (6.05-1) ...\n",
            "Selecting previously unselected package libfile-listing-perl.\n",
            "Preparing to unpack .../06-libfile-listing-perl_6.14-1_all.deb ...\n",
            "Unpacking libfile-listing-perl (6.14-1) ...\n",
            "Selecting previously unselected package libfont-afm-perl.\n",
            "Preparing to unpack .../07-libfont-afm-perl_1.20-3_all.deb ...\n",
            "Unpacking libfont-afm-perl (1.20-3) ...\n",
            "Selecting previously unselected package libhtml-tagset-perl.\n",
            "Preparing to unpack .../08-libhtml-tagset-perl_3.20-4_all.deb ...\n",
            "Unpacking libhtml-tagset-perl (3.20-4) ...\n",
            "Selecting previously unselected package liburi-perl.\n",
            "Preparing to unpack .../09-liburi-perl_5.10-1_all.deb ...\n",
            "Unpacking liburi-perl (5.10-1) ...\n",
            "Selecting previously unselected package libhtml-parser-perl:amd64.\n",
            "Preparing to unpack .../10-libhtml-parser-perl_3.76-1build2_amd64.deb ...\n",
            "Unpacking libhtml-parser-perl:amd64 (3.76-1build2) ...\n",
            "Selecting previously unselected package libio-html-perl.\n",
            "Preparing to unpack .../11-libio-html-perl_1.004-2_all.deb ...\n",
            "Unpacking libio-html-perl (1.004-2) ...\n",
            "Selecting previously unselected package liblwp-mediatypes-perl.\n",
            "Preparing to unpack .../12-liblwp-mediatypes-perl_6.04-1_all.deb ...\n",
            "Unpacking liblwp-mediatypes-perl (6.04-1) ...\n",
            "Selecting previously unselected package libhttp-message-perl.\n",
            "Preparing to unpack .../13-libhttp-message-perl_6.36-1_all.deb ...\n",
            "Unpacking libhttp-message-perl (6.36-1) ...\n",
            "Selecting previously unselected package libhtml-form-perl.\n",
            "Preparing to unpack .../14-libhtml-form-perl_6.07-1_all.deb ...\n",
            "Unpacking libhtml-form-perl (6.07-1) ...\n",
            "Selecting previously unselected package libhtml-tree-perl.\n",
            "Preparing to unpack .../15-libhtml-tree-perl_5.07-2_all.deb ...\n",
            "Unpacking libhtml-tree-perl (5.07-2) ...\n",
            "Selecting previously unselected package libhtml-format-perl.\n",
            "Preparing to unpack .../16-libhtml-format-perl_2.12-1.1_all.deb ...\n",
            "Unpacking libhtml-format-perl (2.12-1.1) ...\n",
            "Selecting previously unselected package libhttp-cookies-perl.\n",
            "Preparing to unpack .../17-libhttp-cookies-perl_6.10-1_all.deb ...\n",
            "Unpacking libhttp-cookies-perl (6.10-1) ...\n",
            "Selecting previously unselected package libhttp-daemon-perl.\n",
            "Preparing to unpack .../18-libhttp-daemon-perl_6.13-1ubuntu0.1_all.deb ...\n",
            "Unpacking libhttp-daemon-perl (6.13-1ubuntu0.1) ...\n",
            "Selecting previously unselected package libhttp-negotiate-perl.\n",
            "Preparing to unpack .../19-libhttp-negotiate-perl_6.01-1_all.deb ...\n",
            "Unpacking libhttp-negotiate-perl (6.01-1) ...\n",
            "Selecting previously unselected package perl-openssl-defaults:amd64.\n",
            "Preparing to unpack .../20-perl-openssl-defaults_5build2_amd64.deb ...\n",
            "Unpacking perl-openssl-defaults:amd64 (5build2) ...\n",
            "Selecting previously unselected package libnet-ssleay-perl:amd64.\n",
            "Preparing to unpack .../21-libnet-ssleay-perl_1.92-1build2_amd64.deb ...\n",
            "Unpacking libnet-ssleay-perl:amd64 (1.92-1build2) ...\n",
            "Selecting previously unselected package libio-socket-ssl-perl.\n",
            "Preparing to unpack .../22-libio-socket-ssl-perl_2.074-2_all.deb ...\n",
            "Unpacking libio-socket-ssl-perl (2.074-2) ...\n",
            "Selecting previously unselected package libnet-http-perl.\n",
            "Preparing to unpack .../23-libnet-http-perl_6.22-1_all.deb ...\n",
            "Unpacking libnet-http-perl (6.22-1) ...\n",
            "Selecting previously unselected package libtry-tiny-perl.\n",
            "Preparing to unpack .../24-libtry-tiny-perl_0.31-1_all.deb ...\n",
            "Unpacking libtry-tiny-perl (0.31-1) ...\n",
            "Selecting previously unselected package libwww-robotrules-perl.\n",
            "Preparing to unpack .../25-libwww-robotrules-perl_6.02-1_all.deb ...\n",
            "Unpacking libwww-robotrules-perl (6.02-1) ...\n",
            "Selecting previously unselected package libwww-perl.\n",
            "Preparing to unpack .../26-libwww-perl_6.61-1_all.deb ...\n",
            "Unpacking libwww-perl (6.61-1) ...\n",
            "Selecting previously unselected package liblwp-protocol-https-perl.\n",
            "Preparing to unpack .../27-liblwp-protocol-https-perl_6.10-1_all.deb ...\n",
            "Unpacking liblwp-protocol-https-perl (6.10-1) ...\n",
            "Selecting previously unselected package libnet-smtp-ssl-perl.\n",
            "Preparing to unpack .../28-libnet-smtp-ssl-perl_1.04-1_all.deb ...\n",
            "Unpacking libnet-smtp-ssl-perl (1.04-1) ...\n",
            "Selecting previously unselected package libmailtools-perl.\n",
            "Preparing to unpack .../29-libmailtools-perl_2.21-1_all.deb ...\n",
            "Unpacking libmailtools-perl (2.21-1) ...\n",
            "Selecting previously unselected package rubygems-integration.\n",
            "Preparing to unpack .../30-rubygems-integration_1.18_all.deb ...\n",
            "Unpacking rubygems-integration (1.18) ...\n",
            "Selecting previously unselected package ruby3.0.\n",
            "Preparing to unpack .../31-ruby3.0_3.0.2-7ubuntu2.8_amd64.deb ...\n",
            "Unpacking ruby3.0 (3.0.2-7ubuntu2.8) ...\n",
            "Selecting previously unselected package ruby-rubygems.\n",
            "Preparing to unpack .../32-ruby-rubygems_3.3.5-2_all.deb ...\n",
            "Unpacking ruby-rubygems (3.3.5-2) ...\n",
            "Selecting previously unselected package ruby.\n",
            "Preparing to unpack .../33-ruby_1%3a3.0~exp1_amd64.deb ...\n",
            "Unpacking ruby (1:3.0~exp1) ...\n",
            "Selecting previously unselected package rake.\n",
            "Preparing to unpack .../34-rake_13.0.6-2_all.deb ...\n",
            "Unpacking rake (13.0.6-2) ...\n",
            "Selecting previously unselected package ruby-net-telnet.\n",
            "Preparing to unpack .../35-ruby-net-telnet_0.1.1-2_all.deb ...\n",
            "Unpacking ruby-net-telnet (0.1.1-2) ...\n",
            "Selecting previously unselected package ruby-webrick.\n",
            "Preparing to unpack .../36-ruby-webrick_1.7.0-3ubuntu0.1_all.deb ...\n",
            "Unpacking ruby-webrick (1.7.0-3ubuntu0.1) ...\n",
            "Selecting previously unselected package ruby-xmlrpc.\n",
            "Preparing to unpack .../37-ruby-xmlrpc_0.3.2-1ubuntu0.1_all.deb ...\n",
            "Unpacking ruby-xmlrpc (0.3.2-1ubuntu0.1) ...\n",
            "Selecting previously unselected package libruby3.0:amd64.\n",
            "Preparing to unpack .../38-libruby3.0_3.0.2-7ubuntu2.8_amd64.deb ...\n",
            "Unpacking libruby3.0:amd64 (3.0.2-7ubuntu2.8) ...\n",
            "Selecting previously unselected package lynx-common.\n",
            "Preparing to unpack .../39-lynx-common_2.9.0dev.10-1_all.deb ...\n",
            "Unpacking lynx-common (2.9.0dev.10-1) ...\n",
            "Selecting previously unselected package mafft.\n",
            "Preparing to unpack .../40-mafft_7.490-1_amd64.deb ...\n",
            "Unpacking mafft (7.490-1) ...\n",
            "Selecting previously unselected package libauthen-sasl-perl.\n",
            "Preparing to unpack .../41-libauthen-sasl-perl_2.1600-1.1_all.deb ...\n",
            "Unpacking libauthen-sasl-perl (2.1600-1.1) ...\n",
            "Selecting previously unselected package lynx.\n",
            "Preparing to unpack .../42-lynx_2.9.0dev.10-1_amd64.deb ...\n",
            "Unpacking lynx (2.9.0dev.10-1) ...\n",
            "Setting up libhttp-date-perl (6.05-1) ...\n",
            "Setting up fonts-lato (2.0-2.1) ...\n",
            "Setting up libfile-listing-perl (6.14-1) ...\n",
            "Setting up libfont-afm-perl (1.20-3) ...\n",
            "Setting up mafft (7.490-1) ...\n",
            "Setting up libclone-perl (0.45-1build3) ...\n",
            "Setting up libhtml-tagset-perl (3.20-4) ...\n",
            "Setting up libauthen-sasl-perl (2.1600-1.1) ...\n",
            "Setting up liblwp-mediatypes-perl (6.04-1) ...\n",
            "Setting up libtry-tiny-perl (0.31-1) ...\n",
            "Setting up perl-openssl-defaults:amd64 (5build2) ...\n",
            "Setting up libencode-locale-perl (1.05-1.1) ...\n",
            "Setting up rubygems-integration (1.18) ...\n",
            "Setting up libdata-dump-perl (1.25-1) ...\n",
            "Setting up ruby-net-telnet (0.1.1-2) ...\n",
            "Setting up libio-html-perl (1.004-2) ...\n",
            "Setting up lynx-common (2.9.0dev.10-1) ...\n",
            "Setting up ruby-webrick (1.7.0-3ubuntu0.1) ...\n",
            "Setting up netbase (6.3) ...\n",
            "Setting up lynx (2.9.0dev.10-1) ...\n",
            "update-alternatives: using /usr/bin/lynx to provide /usr/bin/www-browser (www-browser) in auto mode\n",
            "Setting up ruby-xmlrpc (0.3.2-1ubuntu0.1) ...\n",
            "Setting up liburi-perl (5.10-1) ...\n",
            "Setting up libhttp-message-perl (6.36-1) ...\n",
            "Setting up libnet-ssleay-perl:amd64 (1.92-1build2) ...\n",
            "Setting up libhttp-negotiate-perl (6.01-1) ...\n",
            "Setting up libhttp-cookies-perl (6.10-1) ...\n",
            "Setting up libnet-http-perl (6.22-1) ...\n",
            "Setting up libwww-robotrules-perl (6.02-1) ...\n",
            "Setting up libhttp-daemon-perl (6.13-1ubuntu0.1) ...\n",
            "Setting up libhtml-parser-perl:amd64 (3.76-1build2) ...\n",
            "Setting up libio-socket-ssl-perl (2.074-2) ...\n",
            "Setting up libhtml-form-perl (6.07-1) ...\n",
            "Setting up libhtml-tree-perl (5.07-2) ...\n",
            "Setting up libhtml-format-perl (2.12-1.1) ...\n",
            "Setting up libnet-smtp-ssl-perl (1.04-1) ...\n",
            "Setting up libmailtools-perl (2.21-1) ...\n",
            "Setting up libwww-perl (6.61-1) ...\n",
            "Setting up ruby3.0 (3.0.2-7ubuntu2.8) ...\n",
            "Setting up liblwp-protocol-https-perl (6.10-1) ...\n",
            "Setting up ruby (1:3.0~exp1) ...\n",
            "Setting up rake (13.0.6-2) ...\n",
            "Setting up libruby3.0:amd64 (3.0.2-7ubuntu2.8) ...\n",
            "Setting up ruby-rubygems (3.3.5-2) ...\n",
            "Processing triggers for man-db (2.10.2-1) ...\n",
            "Processing triggers for mailcap (3.70+nmu1ubuntu1) ...\n",
            "Processing triggers for fontconfig (2.13.1-4.2ubuntu5) ...\n",
            "Processing triggers for libc-bin (2.35-0ubuntu3.8) ...\n",
            "/sbin/ldconfig.real: /usr/local/lib/libhwloc.so.15 is not a symbolic link\n",
            "\n",
            "/sbin/ldconfig.real: /usr/local/lib/libtcm.so.1 is not a symbolic link\n",
            "\n",
            "/sbin/ldconfig.real: /usr/local/lib/libtbbmalloc_proxy.so.2 is not a symbolic link\n",
            "\n",
            "/sbin/ldconfig.real: /usr/local/lib/libtbbbind_2_0.so.3 is not a symbolic link\n",
            "\n",
            "/sbin/ldconfig.real: /usr/local/lib/libtbbmalloc.so.2 is not a symbolic link\n",
            "\n",
            "/sbin/ldconfig.real: /usr/local/lib/libtbb.so.12 is not a symbolic link\n",
            "\n",
            "/sbin/ldconfig.real: /usr/local/lib/libur_adapter_opencl.so.0 is not a symbolic link\n",
            "\n",
            "/sbin/ldconfig.real: /usr/local/lib/libtbbbind.so.3 is not a symbolic link\n",
            "\n",
            "/sbin/ldconfig.real: /usr/local/lib/libtcm_debug.so.1 is not a symbolic link\n",
            "\n",
            "/sbin/ldconfig.real: /usr/local/lib/libur_adapter_level_zero.so.0 is not a symbolic link\n",
            "\n",
            "/sbin/ldconfig.real: /usr/local/lib/libur_loader.so.0 is not a symbolic link\n",
            "\n",
            "/sbin/ldconfig.real: /usr/local/lib/libumf.so.0 is not a symbolic link\n",
            "\n",
            "/sbin/ldconfig.real: /usr/local/lib/libtbbbind_2_5.so.3 is not a symbolic link\n",
            "\n",
            "Alignment with 6 rows and 1825 columns\n",
            "----------------atggcgaac-------------------...--- Sequence_1\n",
            "----------------atggcg----------------------...--- Sequence_2\n",
            "atgaccgtgaaag-cgatggcgctg---------------aaca...--- Sequence_3\n",
            "atgagcaaaa----ttgcggtgatttatgcgcgctatagcagcg...ttt Sequence_4\n",
            "atgtgcgtg------tatggctatt-------gccgcattagca...--- Sequence_5\n",
            "atgagccgcaccctgagcggcgatc------------atcagta...--- Sequence_6\n"
          ]
        },
        {
          "output_type": "execute_result",
          "data": {
            "text/plain": [
              "1"
            ]
          },
          "metadata": {},
          "execution_count": 7
        }
      ]
    },
    {
      "cell_type": "markdown",
      "source": [
        "## Alignment of protein sequences"
      ],
      "metadata": {
        "id": "VFe7XjmZpn8_"
      }
    },
    {
      "cell_type": "code",
      "source": [
        "# Copy the file path and make it equal to \"protein_fasta_file\" so the file path does not have to be repasted into future code\n",
        "protein_fasta_file = (\"/content/translated_sequences.fasta\")\n",
        "\n",
        "# Use Mafft for alignment\n",
        "mafft_cline = MafftCommandline(input=protein_fasta_file)\n",
        "stdout, stderr = mafft_cline()\n",
        "\n",
        "# Parse the alignment output\n",
        "alignment = AlignIO.read(io.StringIO(stdout), \"fasta\")\n",
        "\n",
        "# Print the alignment\n",
        "print(alignment)\n",
        "\n",
        "# Save the protein alignment to a file\n",
        "AlignIO.write(alignment, \"aligned_sequences_protein.fasta\", \"fasta\")"
      ],
      "metadata": {
        "colab": {
          "base_uri": "https://localhost:8080/"
        },
        "id": "seQ7E67YpkBX",
        "outputId": "f9cf13ef-9f3a-470c-d9ec-9e1714b56c9a"
      },
      "execution_count": 8,
      "outputs": [
        {
          "output_type": "stream",
          "name": "stdout",
          "text": [
            "Alignment with 6 rows and 627 columns\n",
            "-----MANTINLVTKFAPYVDEQFTS------------ESKLS-...--- Sequence_1_translated\n",
            "-----MA--IDLVAKFLPYVDEMFTT------------ESKKS-...--- Sequence_2_translated\n",
            "MTVKAMALNTNQLFAYLN-----------RGDIA----EFKFS-...--- Sequence_3_translated\n",
            "-----MS---KIAVIYARYSSDKQTEDSIEAQVRACR-EYAAAH...ATF Sequence_4_translated\n",
            "----------MCVYGYCRISTKQQSI---ERQIRNIKAEYDKA-...--- Sequence_5_translated\n",
            "-----MS---RTLSGDHQYYLDKYAK---MAKAAALE-EQRAA-...--- Sequence_6_translated\n"
          ]
        },
        {
          "output_type": "execute_result",
          "data": {
            "text/plain": [
              "1"
            ]
          },
          "metadata": {},
          "execution_count": 8
        }
      ]
    },
    {
      "cell_type": "markdown",
      "source": [
        "## Estimate similarity between sequences"
      ],
      "metadata": {
        "id": "I1Jjnabu0OR0"
      }
    },
    {
      "source": [
        "from Bio import AlignIO\n",
        "from Bio import SeqIO\n",
        "from Bio.Align import substitution_matrices\n",
        "\n",
        "# Load a predefined substitution matrix (e.g., BLOSUM62)\n",
        "matrix = substitution_matrices.load(\"BLOSUM62\")\n",
        "\n",
        "print(\"BLOSUM62\")\n",
        "\n",
        "# Load the nucleotide alignment\n",
        "nuc_alignment = AlignIO.read(\"aligned_sequences_protein.fasta\", \"fasta\")\n",
        "\n",
        "# Load the protein alignment\n",
        "prot_alignment = AlignIO.read(\"/content/aligned_sequences_protein.fasta\", \"fasta\")\n",
        "\n",
        "# Calculate nucleotide sequence similarity\n",
        "nuc_similarity_scores = []\n",
        "for record in nuc_alignment:\n",
        "    similarity = 0\n",
        "    for i in range(len(nuc_alignment[0])):\n",
        "      if nuc_alignment[0][i] == record[i]:\n",
        "        similarity += 1\n",
        "    nuc_similarity_scores.append(similarity / len(nuc_alignment[0]))\n",
        "\n",
        "\n",
        "# Calculate protein sequence similarity\n",
        "# matrix = substitution_matrices.load(sequences_path, \"fasta\")  # Remove or comment out this line\n",
        "\n",
        "prot_similarity_scores = []\n",
        "for record in prot_alignment:\n",
        "    similarity = 0\n",
        "    for i in range(len(prot_alignment[0])):\n",
        "        a = prot_alignment[0][i]\n",
        "        b = record[i]\n",
        "        # Convert amino acid letters to uppercase\n",
        "        a = a.upper()\n",
        "        b = b.upper()\n",
        "        if a != \"-\" and b != \"-\":\n",
        "              similarity += matrix[a, b]\n",
        "\n",
        "    prot_similarity_scores.append(similarity)\n",
        "\n",
        "\n",
        "  # Print the similarity scores\n",
        "print(\"Nucleotide Similarity Scores:\", nuc_similarity_scores)\n",
        "print(\"Protein Similarity Scores:\", prot_similarity_scores)\n",
        "\n",
        "  # Save the similarity scores to a file\n"
      ],
      "cell_type": "code",
      "metadata": {
        "colab": {
          "base_uri": "https://localhost:8080/"
        },
        "id": "m9zYLLNr671F",
        "outputId": "d3802118-a3bd-42cd-aabd-52143fdb5511"
      },
      "execution_count": 9,
      "outputs": [
        {
          "output_type": "stream",
          "name": "stdout",
          "text": [
            "BLOSUM62\n",
            "Nucleotide Similarity Scores: [1.0, 0.8580542264752791, 0.39074960127591707, 0.22009569377990432, 0.45454545454545453, 0.23763955342902712]\n",
            "Protein Similarity Scores: [1446.0, 1037.0, 130.0, 189.0, 44.0, 142.0]\n"
          ]
        }
      ]
    },
    {
      "cell_type": "code",
      "source": [
        "import csv\n",
        "from Bio import AlignIO\n",
        "from Bio import SeqIO\n",
        "from Bio.Align import substitution_matrices\n",
        "\n",
        "# ... (your existing code for calculating similarity scores) ...\n",
        "\n",
        "# Save the similarity scores to a CSV file\n",
        "with open('similarity_scores.csv', 'w', newline='') as csvfile:\n",
        "    writer = csv.writer(csvfile)\n",
        "    writer.writerow([\"Sequence ID\", \"Nucleotide Similarity\", \"Protein Similarity\"])\n",
        "    for i, record in enumerate(nuc_alignment):\n",
        "        writer.writerow([record.id, nuc_similarity_scores[i], prot_similarity_scores[i]])\n",
        "\n",
        "print(\"Similarity scores saved to similarity_scores.csv\")"
      ],
      "metadata": {
        "colab": {
          "base_uri": "https://localhost:8080/"
        },
        "id": "thzjmOaVVT1q",
        "outputId": "ab3d246e-5c42-4511-dcaa-5389a987a1b8"
      },
      "execution_count": 10,
      "outputs": [
        {
          "output_type": "stream",
          "name": "stdout",
          "text": [
            "Similarity scores saved to similarity_scores.csv\n"
          ]
        }
      ]
    },
    {
      "cell_type": "code",
      "source": [
        "# Create a matrix containing the paired distances between the nucleotide sequences\n",
        "\n",
        "import numpy as np\n",
        "\n",
        "# Assuming 'prot_alignment' is your protein alignment object from Biopython\n",
        "# and you want to compute the distance matrix\n",
        "\n",
        "num_sequences = len(prot_alignment)\n",
        "distance_matrix = np.zeros((num_sequences, num_sequences))\n",
        "\n",
        "for i in range(num_sequences):\n",
        "    for j in range(i + 1, num_sequences):\n",
        "        seq1 = prot_alignment[i]\n",
        "        seq2 = prot_alignment[j]\n",
        "\n",
        "        distance = 0  # Initialize the distance\n",
        "        for k in range(len(seq1)):\n",
        "            if seq1[k] != seq2[k]:\n",
        "              distance +=1  # Increment distance for mismatches\n",
        "\n",
        "        distance_matrix[i, j] = distance\n",
        "        distance_matrix[j, i] = distance # Distance matrix is symmetric\n",
        "\n",
        "\n",
        "distance_matrix\n"
      ],
      "metadata": {
        "colab": {
          "base_uri": "https://localhost:8080/"
        },
        "id": "JxGS9ZNdW936",
        "outputId": "fe705d22-d657-4dc8-aa2e-3ee06f85d060"
      },
      "execution_count": 11,
      "outputs": [
        {
          "output_type": "execute_result",
          "data": {
            "text/plain": [
              "array([[  0.,  89., 382., 489., 342., 478.],\n",
              "       [ 89.,   0., 388., 488., 339., 470.],\n",
              "       [382., 388.,   0., 523., 401., 469.],\n",
              "       [489., 488., 523.,   0., 443., 472.],\n",
              "       [342., 339., 401., 443.,   0., 459.],\n",
              "       [478., 470., 469., 472., 459.,   0.]])"
            ]
          },
          "metadata": {},
          "execution_count": 11
        }
      ]
    },
    {
      "cell_type": "code",
      "source": [
        "print(matrix[\"M\", \"M\"])"
      ],
      "metadata": {
        "colab": {
          "base_uri": "https://localhost:8080/"
        },
        "id": "3-v8XmxLTu1L",
        "outputId": "5836381b-4689-4386-b6f6-68f7554c79d2"
      },
      "execution_count": 12,
      "outputs": [
        {
          "output_type": "stream",
          "name": "stdout",
          "text": [
            "5.0\n"
          ]
        }
      ]
    },
    {
      "cell_type": "markdown",
      "source": [
        "## Generate phylogenetic trees for the aligned sequences."
      ],
      "metadata": {
        "id": "vFyH2H63Ygmk"
      }
    },
    {
      "cell_type": "code",
      "source": [
        "\n",
        "# Generate phylogenetic trees for the aligned sequences and aligned protein sequences\n",
        "\n",
        "from Bio import Phylo\n",
        "from Bio.Phylo.TreeConstruction import DistanceCalculator, DistanceTreeConstructor\n",
        "\n",
        "# Calculate the distance matrix (you already have this from the previous code)\n",
        "# ... (your existing distance matrix calculation code) ...\n",
        "\n",
        "# Create a DistanceCalculator object (for protein sequences)\n",
        "calculator = DistanceCalculator(\"blosum62\") # Use the BLOSUM62 matrix\n",
        "\n",
        "# Calculate the distance matrix using the protein alignment\n",
        "dm = calculator.get_distance(prot_alignment)\n",
        "\n",
        "# Create a DistanceTreeConstructor object\n",
        "constructor = DistanceTreeConstructor(calculator, 'nj') # Use the neighbor-joining method\n",
        "\n",
        "# Construct the phylogenetic tree\n",
        "tree = constructor.build_tree(prot_alignment)\n",
        "#Or use the distance matrix directly\n",
        "#tree = constructor.upgma(dm)\n",
        "\n",
        "# Draw and title the tree\n",
        "plt.figure(1)  # Create a figure for the tree\n",
        "Phylo.draw(tree)\n",
        "plt.title(\"Phylogenetic Tree\")  # Add title\n",
        "plt.show()"
      ],
      "metadata": {
        "colab": {
          "base_uri": "https://localhost:8080/",
          "height": 901
        },
        "id": "n_Qkkxh5al4B",
        "outputId": "38648d9f-c76d-4547-bef0-18ff507f57d8"
      },
      "execution_count": 13,
      "outputs": [
        {
          "output_type": "display_data",
          "data": {
            "text/plain": [
              "<Figure size 640x480 with 0 Axes>"
            ]
          },
          "metadata": {}
        },
        {
          "output_type": "display_data",
          "data": {
            "text/plain": [
              "<Figure size 640x480 with 1 Axes>"
            ],
            "image/png": "[encoded data removed]"
          },
          "metadata": {}
        },
        {
          "output_type": "display_data",
          "data": {
            "text/plain": [
              "<Figure size 640x480 with 1 Axes>"
            ],
            "image/png": "[encoded data removed]"
          },
          "metadata": {}
        }
      ]
    },
    {
      "cell_type": "markdown",
      "source": [
        "## Making predictions using BLAST Search and Hidden Markov Models"
      ],
      "metadata": {
        "id": "mzlB4X8HGXkQ"
      }
    },
    {
      "cell_type": "code",
      "source": [
        "# Convert the translated_sequences.fasta file into list format\n",
        "\n",
        "translated_sequences = \"/content/translated_sequences.fasta\"\n",
        "\n",
        "from Bio import SeqIO\n",
        "\n",
        "def fasta_to_list(translated_sequences):\n",
        "  \"\"\"\n",
        "  Converts a FASTA file into a list of sequences.\n",
        "\n",
        "  Args:\n",
        "    fasta_file: Path to the FASTA file.\n",
        "\n",
        "  Returns:\n",
        "    A list of sequences (strings) from the FASTA file.\n",
        "  \"\"\"\n",
        "  sequences = []\n",
        "  for record in SeqIO.parse(translated_sequences, \"fasta\"):\n",
        "    sequences.append(str(record.seq))  # Convert Seq object to string\n",
        "  return sequences\n",
        "\n",
        "# Example usage:\n",
        "fasta_file = \"/content/translated_sequences.fasta\"  # Replace with your file path\n",
        "sequence_list = fasta_to_list(fasta_file)\n",
        "\n",
        "# Print the list of sequences\n",
        "print(sequence_list)"
      ],
      "metadata": {
        "colab": {
          "base_uri": "https://localhost:8080/"
        },
        "id": "IfBsuI_JTI1q",
        "outputId": "fc1cccc5-804d-474b-ceca-e4f2ed406fb8"
      },
      "execution_count": 23,
      "outputs": [
        {
          "output_type": "stream",
          "name": "stdout",
          "text": [
            "['MANTINLVTKFAPYVDEQFTSESKLSLLTNHDFDWTGAHTVKVYKIGTSAMNDYDRSGANVETNWSRFGPVAGLDAITEEMTLKKDRSFTFAIDKLDTDETAQQLAGATALARQNREVVIPEVDSYPYGIMATKAGTKPTAVTLTADNIYTEILKASETLDDAEVPETERVLVVSPSVYALMKKSADITLDSDVGQEQRMKGVIAMMDGAQVVKVPAVRLPENFGFMLAHPSATVAPVKLEDYRVHQDPPGLSGALVEGRICYDAFVLDNKVKAIYYMAQPSKA', 'MAIDLVAKFLPYVDEMFTTESKKSVLTNNDFQWTGAHTVKVYKINTAPMTDYDREGTGTGANGSRYGAVASLDATTEEFTLKKDRSFTFAIDKLDNDETVQQLGGATALARQQREIIIPEVDGYVYGVMCQNAGNKPAAITLTAENICDEIFKANTALDNAEVPETNRILVVTPDTYLLMKQSGDIFLNTDIAEDMRLKGIIAQFDGAKVIKVPSNRLPDDFGFMLVHPSATVAPTKLEDYKIHQDPPGISGDLVEGRICYDAFVLDNKKKAIYYQAVEGA', 'MTVKAMALNTNQLFAYLNRGDIAEFKFSPLFTTLFFPNVATFSTQNIMLDTLDIEEVTMSAFCSPMVGSQVQRDKGYETSTIKPGYMKPKHEIDPTKTIMRMAGEDPAQLNDPTYRRMRLITGNMRRQINAIKARVEWLAVNAVTTGKNIIEGEGIERYEIDWKIPEKNIIEQADGKKWSEQDKETHYPIYDIELYADQAGCPANVMIMGAEVWRTLRSFKKFRELYDLSRGSESAAELACKNLGEVVSFKGYLGDLALIVYSGKYTDSDGTEKYFLEPDLLVLGNTNNKGLVAYGAIMDQEAVRTGATQNMFYPKNWIEDGDPAIEYVQTHSAPQPVPADIRKFVTVKIA', 'MSKIAVIYARYSSDKQTEDSIEAQVRACREYAAAHGLSVVDVYTDEAISGKGSKTANRRQYQRLLRDCGKGLFSVILIHKYDRIARNLGEHVNLEARLKEKGVQLIATAQDFGQTNEAKIMRALMWSLSEYYIDNLAQETKKGLRETALRAEHTGGYAPFGYDIVNKKYIINDLEAVYVRKMFDAAQSRTGFTDLIEEMADAGISGKRGKPIKYPQIYEILRNEKYTGVYLYSPTEAKSRADRRVKPDSIKIENAIPAIISKAQFKEVQKIMNERKQTGRKAGYMCSGIVYCRCGAKMHGITTHRKGHEYKYFTCSKKCGAPVVHMEELDGAAIQYLRDLLSEENQRKITAALRQYQTGEGSRMEEFKQAIKARIEEKQHEYNTLMKNLSSGVLPAEIVSDIGQQMQNIKSEIAALESTKPPKDFTVDTIRMWLESIKAAPDESAIHLLIERIDVIGAPEKEKTVFKMQSTLKTVLGKNGCGGAQHSLPRILFEYATF', 'MCVYGYCRISTKQQSIERQIRNIKAEYDKAVIITEAYSGTTMNRPEWNKLYKKAKAGDTIVFDSVSRMSRDADEGFSLYEELYNKGIELVFLKEPHINTATYKKALQNNVSLTGTNVDYILEGVNKYLMALAKEQIKLAFEQSEKEVEDLHQRTKEGIATARLNGKQIGQKQGAKLTTKKSIEAKKQIQKYSKDFDGQLSDADCMRMIGLARNTFYKYKREMKTE*', 'MSRTLSGDHQYYLDKYAKMAKAAALEEQRAAEIENRHNEIMDAMEEQQRERAELEESQKPPKIQVTTENGIIKVIDNVNKISYPGPQAISAAELLSMDLPPIQWIVKDLLPRCTAFLVAPSKSGKSWLVLQLALDVCRGKPFLGEFETVKTGVLYCDLESGKRRPRDRIRKLLNKDAVPDDLYLLTAEDAVQKLGAGFAEQIRMELVKHEDIGMVIIDVLQVVKPAGKRNKNAYENDYDVMAEVSKIRTERDVLVLLIHHTRKGKDKEDIFNNISGSTGLMGSADEVIMLDRQRNSSEATISITGRDVEEQKYSLKVVKGNGIRFEYRGTADEIEAQQELEDYQNSPVIATIKKLLKQSNDGRWEGSADDIRQASKYLGAAVYDDSRKVGKEIRRFEGLLWAQDGITMDSSRTAKSRIFTFVHGIDIDMSHMSATSHMSATSHMSATSAGQMSMNDMMT*']\n"
          ]
        }
      ]
    },
    {
      "cell_type": "code",
      "source": [
        "import os\n",
        "import re\n",
        "import requests\n",
        "from io import StringIO\n",
        "\n",
        "import pandas as pd\n",
        "from Bio import SeqIO, Phylo\n",
        "from Bio.Blast import NCBIWWW, NCBIXML\n",
        "from lxml import etree\n",
        "\n",
        "# Use the interactively provided FASTA file.\n",
        "INPUT_FASTA = sequences_path\n",
        "OUTPUT_DIR = \"/content\"\n",
        "\n",
        "def blast_query(seq_record, program=\"blastx\", db=\"nr\", hitlist_size=5, out_dir=OUTPUT_DIR):\n",
        "    \"\"\"\n",
        "    Executes a BLAST search on a sequence record and extracts function and organism predictions.\n",
        "\n",
        "    Parameters:\n",
        "        seq_record: A Bio.SeqRecord object.\n",
        "        program (str): BLAST program (default \"blastx\").\n",
        "        db (str): BLAST database (default \"nr\").\n",
        "        hitlist_size (int): Number of hits to consider.\n",
        "        out_dir (str): Directory to save BLAST results.\n",
        "\n",
        "    Returns:\n",
        "        tuple: (Function prediction string, organism prediction string)\n",
        "    \"\"\"\n",
        "    sid = seq_record.id\n",
        "    print(f\"Starting BLAST for {sid}...\")\n",
        "    try:\n",
        "        result_xml = NCBIWWW.qblast(program, db, seq_record.seq, hitlist_size=hitlist_size).read()\n",
        "    except Exception as ex:\n",
        "        print(f\"BLAST error for {sid}: {ex}\")\n",
        "        result_xml = \"\"\n",
        "    blast_file = os.path.join(out_dir, f\"{sid}_blast.xml\")\n",
        "    with open(blast_file, \"w\") as fh:\n",
        "        fh.write(result_xml)\n",
        "    print(f\"BLAST results for {sid} saved at {blast_file}.\")\n",
        "\n",
        "    func_hits, org_hits = [], []\n",
        "    try:\n",
        "        with open(blast_file) as fh:\n",
        "            blast_rec = NCBIXML.read(fh)\n",
        "            if blast_rec.alignments:\n",
        "                for alignment in blast_rec.alignments[:hitlist_size]:\n",
        "                    func_hits.append(alignment.hit_def)\n",
        "                    m = re.search(r'\\[(.*?)\\]', alignment.hit_def)\n",
        "                    org_hits.append(m.group(1) if m else \"Unknown\")\n",
        "            else:\n",
        "                print(f\"No BLAST hits found for {sid}.\")\n",
        "    except Exception as ex:\n",
        "        print(f\"Error parsing BLAST output for {sid}: {ex}\")\n",
        "\n",
        "    return (\"; \".join(func_hits) if func_hits else \"No hit\",\n",
        "            \"; \".join(org_hits) if org_hits else \"Unknown\")\n",
        "\n",
        "def hmmer_query(protein_seq, sid, hmmdb=\"pfam\", out_dir=OUTPUT_DIR):\n",
        "    \"\"\"\n",
        "    Submits a protein sequence to the online HMMER service and retrieves the XML result.\n",
        "\n",
        "    Parameters:\n",
        "        protein_seq: Protein sequence (Bio.Seq object).\n",
        "        sid (str): Sequence identifier.\n",
        "        hmmdb (str): HMMER database (default \"pfam\").\n",
        "        out_dir (str): Directory to save HMMER results.\n",
        "\n",
        "    Returns:\n",
        "        str: Raw XML result from HMMER.\n",
        "    \"\"\"\n",
        "    url = \"https://www.ebi.ac.uk/Tools/hmmer/search/hmmscan\"\n",
        "    payload = {\"hmmdb\": hmmdb, \"seq\": str(protein_seq), \"domE\": \"1e-5\"}\n",
        "    headers = {\"Expect\": \"\", \"Accept\": \"text/xml\"}\n",
        "    print(f\"Submitting HMMER query for {sid}...\")\n",
        "    response = requests.post(url, data=payload, headers=headers)\n",
        "    if response.status_code != 200:\n",
        "        raise Exception(f\"HMMER error for {sid}: {response.status_code}\")\n",
        "    xml_result = response.text\n",
        "    hmmer_file = os.path.join(out_dir, f\"{sid}_hmmer.xml\")\n",
        "    with open(hmmer_file, \"w\") as fh:\n",
        "        fh.write(xml_result)\n",
        "    print(f\"HMMER results for {sid} stored at {hmmer_file}.\")\n",
        "    return xml_result\n",
        "\n",
        "def extract_domains(xml_data):\n",
        "    \"\"\"\n",
        "    Parses HMMER XML output and extracts domain predictions.\n",
        "\n",
        "    Parameters:\n",
        "        xml_data (str): Raw XML from HMMER.\n",
        "\n",
        "    Returns:\n",
        "        str: Semicolon-separated string of domain predictions.\n",
        "    \"\"\"\n",
        "    domains = []\n",
        "    try:\n",
        "        parser = etree.XMLParser(recover=True)\n",
        "        root = etree.fromstring(xml_data.encode(\"utf-8\"), parser=parser)\n",
        "        results = root.find(\".//data[@name='results']\")\n",
        "        if results is not None:\n",
        "            for hit in results.findall(\"hits\"):\n",
        "                hit_name = hit.get(\"name\") or \"UnknownHit\"\n",
        "                for dom in hit.findall(\"domains\"):\n",
        "                    dom_name = dom.get(\"alihmmname\") or hit_name\n",
        "                    e_val = dom.get(\"ievalue\") or dom.get(\"evalue\") or \"N/A\"\n",
        "                    domains.append(f\"{dom_name} (E={e_val})\")\n",
        "    except Exception as ex:\n",
        "        print(f\"Error parsing HMMER XML: {ex}\")\n",
        "    return \"; \".join(domains) if domains else \"No domains detected\"\n",
        "\n",
        "def run_prediction_pipeline(fasta_file=INPUT_FASTA, out_dir=OUTPUT_DIR):\n",
        "    \"\"\"\n",
        "    Main pipeline that performs BLAST and online HMMER queries on each sequence,\n",
        "    and saves domain, organism, and function predictions to CSV files.\n",
        "    \"\"\"\n",
        "    records = list(SeqIO.parse(fasta_file, \"fasta\"))\n",
        "    domain_results, org_func_results, overall_org = [], [], []\n",
        "\n",
        "    for rec in records:\n",
        "        sid = rec.id\n",
        "        print(f\"\\nProcessing sequence {sid}...\")\n",
        "        func_pred, org_pred = blast_query(rec)\n",
        "        org_func_results.append({\n",
        "            \"Sequence_ID\": sid,\n",
        "            \"Predicted_Organism\": org_pred,\n",
        "            \"Function_Prediction\": func_pred\n",
        "        })\n",
        "\n",
        "        protein = rec.seq.translate(to_stop=True)\n",
        "        try:\n",
        "            hmmer_xml = hmmer_query(protein, sid)\n",
        "        except Exception as ex:\n",
        "            print(f\"HMMER query failed for {sid}: {ex}\")\n",
        "            hmmer_xml = \"\"\n",
        "        domain_results.append({\n",
        "            \"Sequence_ID\": sid,\n",
        "            \"Domain_Predictions\": extract_domains(hmmer_xml) if hmmer_xml else \"No domains detected\"\n",
        "        })\n",
        "        overall_org.append({\n",
        "            \"Sequence_ID\": sid,\n",
        "            \"Predicted_Organism\": org_pred\n",
        "        })\n",
        "\n",
        "    pd.DataFrame(domain_results).to_csv(os.path.join(out_dir, \"domain_predictions.csv\"), index=False)\n",
        "    print(f\"Domain predictions saved to {os.path.join(out_dir, 'domain_predictions.csv')}\")\n",
        "\n",
        "    pd.DataFrame(org_func_results).to_csv(os.path.join(out_dir, \"organism_predictions.csv\"), index=False)\n",
        "    print(f\"Organism & function predictions saved to {os.path.join(out_dir, 'organism_predictions.csv')}\")\n",
        "\n",
        "    pd.DataFrame(overall_org).to_csv(os.path.join(out_dir, \"organism_overall.csv\"), index=False)\n",
        "    print(f\"Overall organism predictions saved to {os.path.join(out_dir, 'organism_overall.csv')}\")\n",
        "\n",
        "# Execute the prediction pipeline.\n",
        "run_prediction_pipeline()\n"
      ],
      "metadata": {
        "colab": {
          "base_uri": "https://localhost:8080/"
        },
        "id": "FBd9pNnoGPh9",
        "outputId": "fdabbfe2-bd71-4e07-9916-d0dd67c87183"
      },
      "execution_count": 26,
      "outputs": [
        {
          "output_type": "stream",
          "name": "stdout",
          "text": [
            "\n",
            "Processing sequence Sequence_1...\n",
            "Starting BLAST for Sequence_1...\n",
            "BLAST results for Sequence_1 saved at /content/Sequence_1_blast.xml.\n",
            "Submitting HMMER query for Sequence_1...\n",
            "HMMER results for Sequence_1 stored at /content/Sequence_1_hmmer.xml.\n",
            "\n",
            "Processing sequence Sequence_2...\n",
            "Starting BLAST for Sequence_2...\n",
            "BLAST results for Sequence_2 saved at /content/Sequence_2_blast.xml.\n",
            "Submitting HMMER query for Sequence_2...\n",
            "HMMER results for Sequence_2 stored at /content/Sequence_2_hmmer.xml.\n",
            "\n",
            "Processing sequence Sequence_3...\n",
            "Starting BLAST for Sequence_3...\n",
            "BLAST results for Sequence_3 saved at /content/Sequence_3_blast.xml.\n",
            "Submitting HMMER query for Sequence_3...\n",
            "HMMER results for Sequence_3 stored at /content/Sequence_3_hmmer.xml.\n",
            "\n",
            "Processing sequence Sequence_4...\n",
            "Starting BLAST for Sequence_4...\n",
            "BLAST results for Sequence_4 saved at /content/Sequence_4_blast.xml.\n",
            "Submitting HMMER query for Sequence_4...\n",
            "HMMER results for Sequence_4 stored at /content/Sequence_4_hmmer.xml.\n",
            "\n",
            "Processing sequence Sequence_5...\n",
            "Starting BLAST for Sequence_5...\n",
            "BLAST results for Sequence_5 saved at /content/Sequence_5_blast.xml.\n",
            "Submitting HMMER query for Sequence_5...\n",
            "HMMER results for Sequence_5 stored at /content/Sequence_5_hmmer.xml.\n",
            "\n",
            "Processing sequence Sequence_6...\n",
            "Starting BLAST for Sequence_6...\n",
            "BLAST results for Sequence_6 saved at /content/Sequence_6_blast.xml.\n",
            "Submitting HMMER query for Sequence_6...\n",
            "HMMER results for Sequence_6 stored at /content/Sequence_6_hmmer.xml.\n",
            "Domain predictions saved to /content/domain_predictions.csv\n",
            "Organism & function predictions saved to /content/organism_predictions.csv\n",
            "Overall organism predictions saved to /content/organism_overall.csv\n"
          ]
        }
      ]
    }
  ]
}